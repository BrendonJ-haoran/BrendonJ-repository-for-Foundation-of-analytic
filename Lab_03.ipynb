{
  "nbformat": 4,
  "nbformat_minor": 0,
  "metadata": {
    "colab": {
      "provenance": [],
      "authorship_tag": "ABX9TyO/F4mbm3xt/tk5KJG3SYDq",
      "include_colab_link": true
    },
    "kernelspec": {
      "name": "python3",
      "display_name": "Python 3"
    },
    "language_info": {
      "name": "python"
    }
  },
  "cells": [
    {
      "cell_type": "markdown",
      "metadata": {
        "id": "view-in-github",
        "colab_type": "text"
      },
      "source": [
        "<a href=\"https://colab.research.google.com/github/BrendonJ-haoran/BrendonJ-repository-for-Foundation-of-analytic/blob/main/Lab_03.ipynb\" target=\"_parent\"><img src=\"https://colab.research.google.com/assets/colab-badge.svg\" alt=\"Open In Colab\"/></a>"
      ]
    },
    {
      "cell_type": "markdown",
      "source": [
        "section 1\n"
      ],
      "metadata": {
        "id": "mXhdotPioU40"
      }
    },
    {
      "cell_type": "code",
      "source": [
        "import numpy as np\n",
        "\n",
        "# Define the matrices\n",
        "m1 = np.array([[1, 3, 5], [4, 12, 8]])\n",
        "m2 = np.array([[1, 5, 9], [3, 4, 15]])"
      ],
      "metadata": {
        "id": "siXrhbxekmiD"
      },
      "execution_count": null,
      "outputs": []
    },
    {
      "cell_type": "code",
      "source": [
        "# 1. Add m1 to m2\n",
        "addition_result = np.add(m1, m2)"
      ],
      "metadata": {
        "id": "gNvzVokTkztI"
      },
      "execution_count": null,
      "outputs": []
    },
    {
      "cell_type": "code",
      "source": [
        "# 2. Subtraction: m1 – m2\n",
        "subtraction_result = np.subtract(m1, m2)"
      ],
      "metadata": {
        "id": "zxBqqirGkxMC"
      },
      "execution_count": null,
      "outputs": []
    },
    {
      "cell_type": "code",
      "source": [
        "# 3. Matrix multiplication\n",
        "# a. Multiply m1 x m2\n",
        "multiplication_result_m1_m2 = np.matmul(m1, m2.T) # Transpose m2 for matching shapes\n",
        "\n",
        "# b. Multiply m2 x m1\n",
        "multiplication_result_m2_m1 = np.matmul(m2, m1.T) # Transpose m1 for matching shapes"
      ],
      "metadata": {
        "id": "S8MuJmNTk3T3"
      },
      "execution_count": null,
      "outputs": []
    },
    {
      "cell_type": "markdown",
      "source": [
        "The resultant matrices are not the same. This illustrates that matrix multiplication is not commutative; the order of multiplication matters and results in different matrices"
      ],
      "metadata": {
        "id": "tXepxxEak-Sh"
      }
    },
    {
      "cell_type": "code",
      "source": [
        "#4.a\n",
        "m1 = np.array([[1, 3, 5],\n",
        "               [4, 12, 8]])\n",
        "\n",
        "v1 = np.array([2, 6, 7])\n",
        "\n",
        "m3 = np.append(m1, [v1], axis=0)\n",
        "\n",
        "print(m3)"
      ],
      "metadata": {
        "colab": {
          "base_uri": "https://localhost:8080/"
        },
        "id": "twwj13i_lCzL",
        "outputId": "99f2c00a-0fba-4b7a-eaff-c5d9e09bac03"
      },
      "execution_count": 2,
      "outputs": [
        {
          "output_type": "stream",
          "name": "stdout",
          "text": [
            "[[ 1  3  5]\n",
            " [ 4 12  8]\n",
            " [ 2  6  7]]\n"
          ]
        }
      ]
    },
    {
      "cell_type": "code",
      "source": [
        "#4.b\n",
        "# Attempt to invert m3\n",
        "try:\n",
        "    m3_inv = np.linalg.inv(m3)\n",
        "except Exception as e:\n",
        "    error_message = str(e)\n",
        "\n",
        "error_message\n"
      ],
      "metadata": {
        "colab": {
          "base_uri": "https://localhost:8080/",
          "height": 35
        },
        "id": "ow-0nwD2mIlP",
        "outputId": "428e27ee-ab0a-472b-8a2c-fc5582fe3232"
      },
      "execution_count": 3,
      "outputs": [
        {
          "output_type": "execute_result",
          "data": {
            "text/plain": [
              "'Singular matrix'"
            ],
            "application/vnd.google.colaboratory.intrinsic+json": {
              "type": "string"
            }
          },
          "metadata": {},
          "execution_count": 3
        }
      ]
    },
    {
      "cell_type": "code",
      "source": [
        "# 4.c\n",
        "#Calculate the determinant of m3\n",
        "det_m3 = np.linalg.det(m3)\n",
        "\n",
        "det_m3\n"
      ],
      "metadata": {
        "colab": {
          "base_uri": "https://localhost:8080/"
        },
        "id": "BHf5Iug4mqTn",
        "outputId": "b85f5e19-1d9a-4ab8-b165-567dc4cd021c"
      },
      "execution_count": 4,
      "outputs": [
        {
          "output_type": "execute_result",
          "data": {
            "text/plain": [
              "0.0"
            ]
          },
          "metadata": {},
          "execution_count": 4
        }
      ]
    },
    {
      "cell_type": "code",
      "source": [
        "# 4.d\n",
        "\n",
        "m1 = np.array([[1, 3, 5],\n",
        "               [4, 12, 8]])\n",
        "\n",
        "v2 = np.array([2, 0, 7])\n",
        "\n",
        "m4 = np.append(m1, [v2], axis=0)\n",
        "\n",
        "print(m4)\n"
      ],
      "metadata": {
        "colab": {
          "base_uri": "https://localhost:8080/"
        },
        "id": "7Fun69FlnOS0",
        "outputId": "6049f55a-662f-4733-c583-f44ea4c62506"
      },
      "execution_count": 5,
      "outputs": [
        {
          "output_type": "stream",
          "name": "stdout",
          "text": [
            "[[ 1  3  5]\n",
            " [ 4 12  8]\n",
            " [ 2  0  7]]\n"
          ]
        }
      ]
    },
    {
      "cell_type": "code",
      "source": [
        "# 4.e\n",
        "# Calculate the determinant of m4\n",
        "det_m4 = np.linalg.det(m4)\n",
        "\n",
        "# Attempt to invert m4\n",
        "try:\n",
        "    m4_inv = np.linalg.inv(m4)\n",
        "    invertible = True\n",
        "except Exception:\n",
        "    invertible = False\n",
        "    m4_inv = None\n",
        "\n",
        "det_m4, invertible, m4_inv\n"
      ],
      "metadata": {
        "colab": {
          "base_uri": "https://localhost:8080/"
        },
        "id": "sNIbVuMEnuVo",
        "outputId": "c262c472-1fb1-4d9a-9c9e-e99ac2a9ea5d"
      },
      "execution_count": 6,
      "outputs": [
        {
          "output_type": "execute_result",
          "data": {
            "text/plain": [
              "(-72.0,\n",
              " True,\n",
              " array([[-1.16666667,  0.29166667,  0.5       ],\n",
              "        [ 0.16666667,  0.04166667, -0.16666667],\n",
              "        [ 0.33333333, -0.08333333,  0.        ]]))"
            ]
          },
          "metadata": {},
          "execution_count": 6
        }
      ]
    },
    {
      "cell_type": "markdown",
      "source": [
        "A non-zero determinant indicates that a matrix has an inverse, as it means the matrix is non-singular. Conversely, a determinant of zero indicates that the matrix is singular, meaning it does not have an inverse."
      ],
      "metadata": {
        "id": "Ld9GNWv9mI_t"
      }
    },
    {
      "cell_type": "code",
      "source": [
        "# Calculate the eigenvalues and eigenvectors of m4\n",
        "eigenvalues_m4, eigenvectors_m4 = np.linalg.eig(m4)\n",
        "\n",
        "eigenvalues_m4, eigenvectors_m4\n"
      ],
      "metadata": {
        "colab": {
          "base_uri": "https://localhost:8080/"
        },
        "id": "PoHdOfaVoPbS",
        "outputId": "b4bb594e-0be6-48c3-fd83-6fb5200b8a99"
      },
      "execution_count": 7,
      "outputs": [
        {
          "output_type": "execute_result",
          "data": {
            "text/plain": [
              "(array([-0.74625347, 13.70776234,  7.03849113]),\n",
              " array([[-0.95796008,  0.25760791,  0.01007287],\n",
              "        [ 0.14538858,  0.96319186, -0.85203586],\n",
              "        [ 0.24733507,  0.0768089 ,  0.5233865 ]]))"
            ]
          },
          "metadata": {},
          "execution_count": 7
        }
      ]
    },
    {
      "cell_type": "markdown",
      "source": [
        "section 2\n"
      ],
      "metadata": {
        "id": "ZD6Af7koob6O"
      }
    },
    {
      "cell_type": "code",
      "source": [
        "#1.\n",
        "import matplotlib.pyplot as plt\n",
        "\n",
        "# Set the seed for reproducibility\n",
        "np.random.seed(155)\n",
        "\n",
        "# Generate random observations\n",
        "x1 = np.random.normal(15, 2, 40)\n",
        "x2 = np.random.normal(17, 1.5, 40)\n",
        "\n",
        "# Plot histograms\n",
        "plt.hist(x1, bins=10, alpha=0.5, label='x1: Mean=15, SD=2')\n",
        "plt.hist(x2, bins=10, alpha=0.5, label='x2: Mean=17, SD=1.5')\n",
        "plt.legend(loc='upper right')\n",
        "plt.title('Histograms of Random Normal Distributions')\n",
        "plt.xlabel('Value')\n",
        "plt.ylabel('Frequency')\n",
        "\n",
        "# Display the plot\n",
        "plt.show()\n"
      ],
      "metadata": {
        "colab": {
          "base_uri": "https://localhost:8080/",
          "height": 472
        },
        "id": "em74jpOhobqc",
        "outputId": "ddcb33f5-420c-4135-d797-0fcaf2f70bf3"
      },
      "execution_count": 8,
      "outputs": [
        {
          "output_type": "display_data",
          "data": {
            "text/plain": [
              "<Figure size 640x480 with 1 Axes>"
            ],
            "image/png": "[encoded data removed]"
          },
          "metadata": {}
        }
      ]
    },
    {
      "cell_type": "code",
      "source": [
        "#2.\n",
        "# Subtract x1 from x2 to get x3\n",
        "x3 = x2 - x1\n",
        "\n",
        "# Plot histogram of x3\n",
        "plt.hist(x3, bins=10, alpha=0.75, label='x3: Differences')\n",
        "plt.legend(loc='upper right')\n",
        "plt.title('Histogram of Differences (x3)')\n",
        "plt.xlabel('Value')\n",
        "plt.ylabel('Frequency')\n",
        "\n",
        "# Display the plot\n",
        "plt.show()\n",
        "\n",
        "# Evaluate the basic statistics of x3 to understand its distribution\n",
        "mean_x3 = np.mean(x3)\n",
        "std_dev_x3 = np.std(x3)\n",
        "\n",
        "mean_x3, std_dev_x3\n"
      ],
      "metadata": {
        "colab": {
          "base_uri": "https://localhost:8080/",
          "height": 490
        },
        "id": "K7es9YlVo13T",
        "outputId": "761bf562-e640-4d32-9f88-582663dfeddf"
      },
      "execution_count": 9,
      "outputs": [
        {
          "output_type": "display_data",
          "data": {
            "text/plain": [
              "<Figure size 640x480 with 1 Axes>"
            ],
            "image/png": "[encoded data removed]"
          },
          "metadata": {}
        },
        {
          "output_type": "execute_result",
          "data": {
            "text/plain": [
              "(1.978676322071194, 2.6039280626734347)"
            ]
          },
          "metadata": {},
          "execution_count": 9
        }
      ]
    },
    {
      "cell_type": "markdown",
      "source": [
        "The distribution conforms to a normal distribution with means of 2 and standard deviation of 2.5"
      ],
      "metadata": {
        "id": "FQfk9LyORnhl"
      }
    },
    {
      "cell_type": "markdown",
      "source": [
        "section 3\n"
      ],
      "metadata": {
        "id": "mKQ-oVmZpccy"
      }
    },
    {
      "cell_type": "code",
      "source": [
        "#1.\n",
        "from scipy import stats\n",
        "\n",
        "# Compute mean and median for x1 and x3\n",
        "mean_x1 = np.mean(x1)\n",
        "median_x1 = np.median(x1)\n",
        "\n",
        "mean_x3 = np.mean(x3)\n",
        "median_x3 = np.median(x3)\n",
        "\n",
        "# Attempt to compute mode for x3\n",
        "mode_x3 = stats.mode(x3)\n",
        "\n",
        "# Round x3 values to the closest integer and compute the new mode\n",
        "x3_rounded = np.round(x3)\n",
        "mode_x3_rounded = stats.mode(x3_rounded)\n",
        "\n",
        "print('mean_x1=', mean_x1, )\n",
        "print('median_x1=', median_x1)\n",
        "print('mean_x3=', mean_x3)\n",
        "print('median_x3=', median_x3)\n",
        "print('mode_x3=', mode_x3)\n",
        "print('mode_x3_rounded=', mode_x3_rounded)"
      ],
      "metadata": {
        "colab": {
          "base_uri": "https://localhost:8080/"
        },
        "id": "OCnhMf8ppeZT",
        "outputId": "de40461e-5bc8-4e80-864e-6521a88b3991"
      },
      "execution_count": 19,
      "outputs": [
        {
          "output_type": "stream",
          "name": "stdout",
          "text": [
            "mean_x1= 14.802853912665578\n",
            "median_x1= 14.895544528517114\n",
            "mean_x3= 1.978676322071194\n",
            "median_x3= 1.992652158933761\n",
            "mode_x3= ModeResult(mode=-3.4292853652336817, count=1)\n",
            "mode_x3_rounded= ModeResult(mode=2.0, count=7)\n"
          ]
        }
      ]
    },
    {
      "cell_type": "code",
      "source": [
        "2.\n",
        "# Compute sample variance and standard deviation for x1 and x3\n",
        "variance_x1 = np.var(x1, ddof=1) # ddof=1 for sample variance\n",
        "std_dev_x1 = np.std(x1, ddof=1) # ddof=1 for sample standard deviation\n",
        "\n",
        "variance_x3 = np.var(x3, ddof=1)\n",
        "std_dev_x3 = np.std(x3, ddof=1)\n",
        "\n",
        "# Compute standard error for x1 and x3\n",
        "n_x1 = len(x1)\n",
        "n_x3 = len(x3)\n",
        "\n",
        "std_error_x1 = std_dev_x1 / np.sqrt(n_x1)\n",
        "std_error_x3 = std_dev_x3 / np.sqrt(n_x3)\n",
        "\n",
        "print('variance_x1=', variance_x1, )\n",
        "print('std_dev_x1=', std_dev_x1)\n",
        "print('std_error_x1=', std_error_x1)\n",
        "print('variance_x3=', variance_x3)\n",
        "print('std_dev_x3=', std_dev_x3)\n",
        "print('std_error_x3=', std_error_x3)\n"
      ],
      "metadata": {
        "colab": {
          "base_uri": "https://localhost:8080/"
        },
        "id": "l_IY2JGlpuTf",
        "outputId": "49bdb1bc-6636-4acb-b5a3-bdac00d62b73"
      },
      "execution_count": 21,
      "outputs": [
        {
          "output_type": "stream",
          "name": "stdout",
          "text": [
            "variance_x1= 3.8009307400859713\n",
            "std_dev_x1= 1.949597584140371\n",
            "std_error_x1= 0.30825844433226685\n",
            "variance_x3= 6.95429882623408\n",
            "std_dev_x3= 2.637100458123293\n",
            "std_error_x3= 0.41696219331715434\n"
          ]
        }
      ]
    },
    {
      "cell_type": "code",
      "source": [
        "#3.\n",
        "# Compute the range for x1 and x3\n",
        "range_x1 = np.max(x1) - np.min(x1)\n",
        "range_x3 = np.max(x3) - np.min(x3)\n",
        "\n",
        "# Compute Q1 and Q3 for x1 and x3\n",
        "Q1_x1, Q3_x1 = np.percentile(x1, [25, 75])\n",
        "Q1_x3, Q3_x3 = np.percentile(x3, [25, 75])\n",
        "\n",
        "# Compute the Interquartile Range (IQR) for x1 and x3\n",
        "IQR_x1 = Q3_x1 - Q1_x1\n",
        "IQR_x3 = Q3_x3 - Q1_x3\n",
        "\n",
        "\n",
        "print('range_x1=', range_x1)\n",
        "print('range_x3=', range_x3)\n",
        "print('(Q1_x1, Q3_x1)=', (Q1_x1, Q3_x1))\n",
        "print('(Q1_x3, Q3_x3)=', (Q1_x3, Q3_x3))\n",
        "print('IQR_x1=', IQR_x1)\n",
        "print('IQR_x3=', IQR_x3)\n"
      ],
      "metadata": {
        "colab": {
          "base_uri": "https://localhost:8080/"
        },
        "id": "kvSzYG_wp5_1",
        "outputId": "23f07551-292d-4022-93c8-dda2e6841353"
      },
      "execution_count": 23,
      "outputs": [
        {
          "output_type": "stream",
          "name": "stdout",
          "text": [
            "range_x1= 8.653972842075435\n",
            "range_x3= 12.051483453898415\n",
            "(Q1_x1, Q3_x1)= (13.36709336572737, 15.964637102858198)\n",
            "(Q1_x3, Q3_x3)= (0.5217269812732308, 3.6767628860143486)\n",
            "IQR_x1= 2.5975437371308274\n",
            "IQR_x3= 3.155035904741118\n"
          ]
        }
      ]
    },
    {
      "cell_type": "markdown",
      "source": [
        "compare several statistics that measure variability: the range, the Interquartile Range (IQR), and the standard deviation. From the computed values:\n",
        "\n",
        "Range:\n",
        "\n",
        "x1 has a range of approximately 8.654.\n",
        "\n",
        "x3 has a greater range of approximately 12.051.\n",
        "\n",
        "Interquartile Range (IQR):\n",
        "\n",
        "x1 has an IQR of approximately 2.598.\n",
        "\n",
        "x3 has a slightly larger IQR of approximately 3.155.\n",
        "\n",
        "Standard Deviation:\n",
        "\n",
        "x1 has a standard deviation of approximately 1.950.\n",
        "\n",
        "x3 has a larger standard deviation of approximately 2.637.\n",
        "\n",
        "Considering these measures of spread, x3 (the differences between x1 and x2) exhibits a greater variability compared to x1. This is indicated by its larger range, larger IQR, and larger standard deviation, suggesting that the distribution of differences (x3) is more spread out than the distribution of x1."
      ],
      "metadata": {
        "id": "T4jf6YpLqvI8"
      }
    }
  ]
}