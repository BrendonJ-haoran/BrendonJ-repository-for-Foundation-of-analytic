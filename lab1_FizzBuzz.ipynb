{
  "nbformat": 4,
  "nbformat_minor": 0,
  "metadata": {
    "colab": {
      "provenance": [],
      "authorship_tag": "ABX9TyPp3HQvcqNVtFOB/QRBq/me",
      "include_colab_link": true
    },
    "kernelspec": {
      "name": "python3",
      "display_name": "Python 3"
    },
    "language_info": {
      "name": "python"
    }
  },
  "cells": [
    {
      "cell_type": "markdown",
      "metadata": {
        "id": "view-in-github",
        "colab_type": "text"
      },
      "source": [
        "<a href=\"https://colab.research.google.com/github/BrendonJ-haoran/BrendonJ-repository-for-Foundation-of-analytic/blob/main/lab1_FizzBuzz.ipynb\" target=\"_parent\"><img src=\"https://colab.research.google.com/assets/colab-badge.svg\" alt=\"Open In Colab\"/></a>"
      ]
    },
    {
      "cell_type": "code",
      "execution_count": 6,
      "metadata": {
        "colab": {
          "base_uri": "https://localhost:8080/"
        },
        "id": "HM37b2ixQ_cr",
        "outputId": "5c7c52ba-783c-4231-e252-1236c89cd854"
      },
      "outputs": [
        {
          "output_type": "stream",
          "name": "stdout",
          "text": [
            "1\n",
            "2\n",
            "Fizz\n",
            "4\n",
            "Buzz\n",
            "Fizz\n",
            "7\n",
            "8\n",
            "Fizz\n",
            "Buzz\n",
            "11\n",
            "Fizz\n",
            "13\n",
            "14\n",
            "FizzBuzz\n",
            "16\n",
            "17\n",
            "Fizz\n",
            "19\n",
            "Buzz\n",
            "Fizz\n",
            "22\n",
            "23\n",
            "Fizz\n",
            "Buzz\n",
            "26\n",
            "Fizz\n",
            "28\n",
            "29\n",
            "FizzBuzz\n"
          ]
        }
      ],
      "source": [
        "def fizz_buzz(start, end):\n",
        "\n",
        "    for i in range(start, end + 1):\n",
        "        if i % 3 == 0 and i % 5 == 0:\n",
        "            print(\"FizzBuzz\")     #if a number is evenly divisible by both 3 and 5, rather than the number, print FizzBuzz.\n",
        "        elif i % 3 == 0:\n",
        "            print(\"Fizz\")         #if a number is evenly divisible by 3, rather than the number, print Fizz.\n",
        "        elif i % 5 == 0:\n",
        "            print(\"Buzz\")         #if a number is evenly divisible by 5, rather than the number, print Buzz.\n",
        "        else:\n",
        "            print(i)              #other ocasions\n",
        "\n",
        "# 调用函数时输入任意范围\n",
        "fizz_buzz(1, 30)\n"
      ]
    }
  ]
}