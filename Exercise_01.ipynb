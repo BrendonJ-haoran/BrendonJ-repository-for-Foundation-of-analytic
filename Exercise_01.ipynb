{
  "nbformat": 4,
  "nbformat_minor": 0,
  "metadata": {
    "colab": {
      "provenance": [],
      "authorship_tag": "ABX9TyO/hr+JaQus0zsCF6npr9Kx",
      "include_colab_link": true
    },
    "kernelspec": {
      "name": "python3",
      "display_name": "Python 3"
    },
    "language_info": {
      "name": "python"
    }
  },
  "cells": [
    {
      "cell_type": "markdown",
      "metadata": {
        "id": "view-in-github",
        "colab_type": "text"
      },
      "source": [
        "<a href=\"https://colab.research.google.com/github/BrendonJ-haoran/BrendonJ-repository-for-Foundation-of-analytic/blob/main/Exercise_01.ipynb\" target=\"_parent\"><img src=\"https://colab.research.google.com/assets/colab-badge.svg\" alt=\"Open In Colab\"/></a>"
      ]
    },
    {
      "cell_type": "markdown",
      "source": [
        "1.function DateOffset"
      ],
      "metadata": {
        "id": "1ez8nGNT6MqJ"
      }
    },
    {
      "cell_type": "code",
      "execution_count": 9,
      "metadata": {
        "colab": {
          "base_uri": "https://localhost:8080/"
        },
        "id": "L86oxZpj5Njt",
        "outputId": "99c29334-3e51-45f8-ef20-36c18a3cf1dd"
      },
      "outputs": [
        {
          "output_type": "stream",
          "name": "stdout",
          "text": [
            "2023-01-01\n",
            "2022-08-31\n"
          ]
        }
      ],
      "source": [
        "from datetime import datetime, timedelta\n",
        "\n",
        "def DateOffset(d, n):\n",
        "    datetime_obj = datetime.strptime(d, '%Y-%m-%d')     # Change the input date string into a datetime object\n",
        "    modified_date = datetime_obj + timedelta(days=n)        # Add or subtract days using timedelta\n",
        "    return modified_date.strftime('%Y-%m-%d')           # Change the datetime object back to 'YYYY-MM-DD' format as requested\n",
        "\n",
        "# Test the function\n",
        "print(DateOffset('2022-12-31', 1))\n",
        "print(DateOffset('2022-09-01', -1))"
      ]
    },
    {
      "cell_type": "markdown",
      "source": [
        "2.function Factorial"
      ],
      "metadata": {
        "id": "SIStJ_Yc6SSn"
      }
    },
    {
      "cell_type": "code",
      "source": [
        "def Factorial(n):\n",
        "      if n>0:\n",
        "        return n*Factorial(n-1)     #For the case when it is a positive integer\n",
        "      elif n==0:\n",
        "        return 1                    #Base case:0!=1\n",
        "      else :\n",
        "        return \"undefined\"          #For the case when it is a negative integer\n",
        "\n",
        "# Test the function\n",
        "print(Factorial(3))\n",
        "print(Factorial(-1))"
      ],
      "metadata": {
        "colab": {
          "base_uri": "https://localhost:8080/"
        },
        "id": "n3in2OrX6r9S",
        "outputId": "f55d4a6f-5915-4d1f-ad54-0434730548b3"
      },
      "execution_count": 3,
      "outputs": [
        {
          "output_type": "stream",
          "name": "stdout",
          "text": [
            "6\n",
            "undefined\n"
          ]
        }
      ]
    },
    {
      "cell_type": "markdown",
      "source": [
        "3.function LongestString"
      ],
      "metadata": {
        "id": "8V5GEgnn7rBp"
      }
    },
    {
      "cell_type": "code",
      "source": [
        "def LongestStrings(strings):\n",
        "    max_length = 0\n",
        "    longest_strings = []\n",
        "    # Find the length of the longest string\n",
        "    for s in strings:\n",
        "        if len(s) > max_length:\n",
        "            max_length = len(s)\n",
        "\n",
        "    # Add strings that match the longest length to the list\n",
        "    for s in strings:\n",
        "        if len(s) == max_length:\n",
        "            longest_strings.append(s)\n",
        "\n",
        "    return longest_strings\n",
        "\n",
        "# Test the function\n",
        "LongestStrings([\"aba\", \"aa\", \"ad\", \"vcd\", \"aba\"])"
      ],
      "metadata": {
        "colab": {
          "base_uri": "https://localhost:8080/"
        },
        "id": "ixczc-MA7uQf",
        "outputId": "be333d4c-cca6-461a-ddda-a6815c9a06a3"
      },
      "execution_count": 10,
      "outputs": [
        {
          "output_type": "execute_result",
          "data": {
            "text/plain": [
              "['aba', 'vcd', 'aba']"
            ]
          },
          "metadata": {},
          "execution_count": 10
        }
      ]
    },
    {
      "cell_type": "markdown",
      "source": [
        "4.function IsPalindrome"
      ],
      "metadata": {
        "id": "5BPcgYwKFfRy"
      }
    },
    {
      "cell_type": "code",
      "source": [
        "def IsPalindrome(s):\n",
        "    length = len(s)\n",
        "\n",
        "    for i in range(length // 2):\n",
        "        if s[i] != s[length - i - 1]:        # Compare characters from start and end\n",
        "            return False\n",
        "\n",
        "    return True\n",
        "\n",
        "# Test the function\n",
        "print(IsPalindrome(\"racecar\"))\n",
        "print(IsPalindrome(\"racecars\"))"
      ],
      "metadata": {
        "colab": {
          "base_uri": "https://localhost:8080/"
        },
        "id": "mCEPOcH4FR4Y",
        "outputId": "cff854de-4cbe-4332-f7ad-c9e9decba644"
      },
      "execution_count": 2,
      "outputs": [
        {
          "output_type": "stream",
          "name": "stdout",
          "text": [
            "True\n",
            "False\n"
          ]
        }
      ]
    },
    {
      "cell_type": "markdown",
      "source": [
        "5.function MakeChange"
      ],
      "metadata": {
        "id": "IOj7c9OIHfbs"
      }
    },
    {
      "cell_type": "code",
      "source": [
        "def MakeChange(c):\n",
        "    change = {\"$0.50\": 0, \"$0.25\": 0, \"$0.10\": 0, \"$0.05\": 0, \"$0.01\": 0}\n",
        "\n",
        "    # Calculate the number of 50-cent coins\n",
        "    if c >= 50:\n",
        "        change[\"$0.50\"] = c // 50\n",
        "        c %= 50\n",
        "\n",
        "    # Calculate the number of 25-cent coins\n",
        "    if c >= 25:\n",
        "        change[\"$0.25\"] = c // 25\n",
        "        c %= 25\n",
        "\n",
        "    # Calculate the number of 10-cent coins\n",
        "    if c >= 10:\n",
        "        change[\"$0.10\"] = c // 10\n",
        "        c %= 10\n",
        "\n",
        "    # Calculate the number of 5-cent coins\n",
        "    if c >= 5:\n",
        "        change[\"$0.05\"] = c // 5\n",
        "        c %= 5\n",
        "\n",
        "    # Remaining cents are 1-cent coins\n",
        "    change[\"$0.01\"] = c\n",
        "\n",
        "    return change\n",
        "\n",
        "# Test the function\n",
        "MakeChange(26)\n"
      ],
      "metadata": {
        "colab": {
          "base_uri": "https://localhost:8080/"
        },
        "id": "-OG9JTzBHhVE",
        "outputId": "97423058-c85f-4a93-ac1a-829de59740b6"
      },
      "execution_count": 11,
      "outputs": [
        {
          "output_type": "execute_result",
          "data": {
            "text/plain": [
              "{'$0.50': 0, '$0.25': 1, '$0.10': 0, '$0.05': 0, '$0.01': 1}"
            ]
          },
          "metadata": {},
          "execution_count": 11
        }
      ]
    }
  ]
}